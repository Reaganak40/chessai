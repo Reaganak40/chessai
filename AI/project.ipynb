{
 "cells": [
  {
   "cell_type": "code",
   "execution_count": 3,
   "metadata": {},
   "outputs": [],
   "source": [
    "import os\n",
    "import subprocess\n",
    "from pathlib import Path\n",
    "\n",
    "def replay_game():\n",
    "    path_to_exe = Path(os.getcwd()).absolute().parent.joinpath('Chess').joinpath('bin').joinpath('Debug').joinpath('net6.0').joinpath('Chess.exe')\n",
    "    \n",
    "    if not path_to_exe.exists():\n",
    "        raise FileNotFoundError(path_to_exe)\n",
    "    \n",
    "    subprocess.call(str(path_to_exe))"
   ]
  },
  {
   "cell_type": "code",
   "execution_count": 4,
   "metadata": {},
   "outputs": [],
   "source": [
    "replay_game()"
   ]
  },
  {
   "cell_type": "code",
   "execution_count": 12,
   "metadata": {},
   "outputs": [
    {
     "name": "stdout",
     "output_type": "stream",
     "text": [
      "torch.Size([1, 1, 8, 8])\n",
      "tensor([[[ 0.,  0.,  0.,  0.,  0.,  0.,  0.,  0.],\n",
      "         [-1., -1., -1., -1., -1., -1., -1., -1.],\n",
      "         [ 0.,  0.,  0.,  0.,  0.,  0.,  0.,  0.],\n",
      "         [ 0.,  0.,  0.,  0.,  0.,  0.,  0.,  0.],\n",
      "         [ 0.,  0.,  0.,  0.,  0.,  0.,  0.,  0.],\n",
      "         [ 0.,  0.,  0.,  0.,  0.,  0.,  0.,  0.],\n",
      "         [ 1.,  1.,  1.,  1.,  1.,  1.,  1.,  1.],\n",
      "         [ 0.,  0.,  0.,  0.,  0.,  0.,  0.,  0.]]])\n",
      "torch.Size([1, 8, 4, 4])\n"
     ]
    }
   ],
   "source": [
    "# NN Imports\n",
    "import torch\n",
    "import torch.nn as nn\n",
    "import torchvision\n",
    "import torchvision.transforms as transforms\n",
    "import numpy\n",
    "\n",
    "# MCTS Imports\n",
    "from mcts import mcts\n",
    "\n",
    "# Fully connected neural network with one hidden layer\n",
    "class NeuralNet(nn.Module):\n",
    "    def __init__(self, input_size, hidden_size, num_classes):\n",
    "        super(NeuralNet, self).__init__()\n",
    "        self.fc1 = nn.Linear(input_size, hidden_size)\n",
    "        self.relu = nn.ReLU()\n",
    "        self.fc2 = nn.Linear(hidden_size, num_classes)\n",
    "    \n",
    "    def forward(self, x):\n",
    "        out = self.fc1(x)\n",
    "        out = self.relu(out)\n",
    "        out = self.fc2(out)\n",
    "        return out\n",
    "\n",
    "# Hyper-parameters for MNIST\n",
    "input_size = 784\n",
    "hidden_size = 500\n",
    "num_classes = 10\n",
    "num_epochs = 10\n",
    "batch_size = 100\n",
    "learning_rate = 0.001\n",
    "\n",
    "# Device configuration\n",
    "device = torch.device('cuda:0' if torch.cuda.is_available() else 'cpu')\n",
    "\n",
    "board = [ [ 0,  0,  0,  0,  0,  0,  0,  0],\n",
    "          [-1, -1, -1, -1, -1, -1, -1, -1],\n",
    "          [ 0,  0,  0,  0,  0,  0,  0,  0],\n",
    "          [ 0,  0,  0,  0,  0,  0,  0,  0],\n",
    "          [ 0,  0,  0,  0,  0,  0,  0,  0],\n",
    "          [ 0,  0,  0,  0,  0,  0,  0,  0],\n",
    "          [ 1,  1,  1,  1,  1,  1,  1,  1],\n",
    "          [ 0,  0,  0,  0,  0,  0,  0,  0]\n",
    "        ]\n",
    "#x = torch.FloatTensor(board)\n",
    "\n",
    "x = torch.empty(1, 1, 8, 8)\n",
    "x[0] = torch.FloatTensor(board)\n",
    "\n",
    "# Convolutional neural network (two convolutional layers)\n",
    "class ConvNet(nn.Module):\n",
    "    def __init__(self, num_classes=10):\n",
    "        super(ConvNet, self).__init__()\n",
    "        \n",
    "        self.layer1 = nn.Sequential(\n",
    "            nn.Conv2d(1, 8, kernel_size=3, stride=1, padding=1),\n",
    "            nn.BatchNorm2d(8),\n",
    "            nn.ReLU(),\n",
    "            nn.MaxPool2d(kernel_size=2, stride=2))\n",
    "        # self.layer2 = nn.Sequential(\n",
    "        #     nn.Conv2d(8, 16, kernel_size=5, stride=1, padding=2),\n",
    "        #     nn.BatchNorm2d(32),\n",
    "        #     nn.ReLU(),\n",
    "        #     nn.MaxPool2d(kernel_size=2, stride=2))\n",
    "        # self.fc = nn.Linear(7*7*32, num_classes)\n",
    "        \n",
    "    def forward(self, x):\n",
    "        out = self.layer1(x)\n",
    "        # out = self.layer2(out)\n",
    "        # out = out.reshape(out.size(0), -1)\n",
    "        # out = self.fc(out)\n",
    "        return out\n",
    "\n",
    "model_conv = ConvNet(num_classes).to(device)\n",
    "\n",
    "print(x.shape)\n",
    "print(x[0])\n",
    "output = model_conv(x)\n",
    "print(output.shape)\n",
    "\n",
    "\n"
   ]
  },
  {
   "cell_type": "code",
   "execution_count": null,
   "metadata": {},
   "outputs": [],
   "source": []
  }
 ],
 "metadata": {
  "kernelspec": {
   "display_name": "Python 3",
   "language": "python",
   "name": "python3"
  },
  "language_info": {
   "codemirror_mode": {
    "name": "ipython",
    "version": 3
   },
   "file_extension": ".py",
   "mimetype": "text/x-python",
   "name": "python",
   "nbconvert_exporter": "python",
   "pygments_lexer": "ipython3",
   "version": "3.11.0"
  },
  "orig_nbformat": 4
 },
 "nbformat": 4,
 "nbformat_minor": 2
}
